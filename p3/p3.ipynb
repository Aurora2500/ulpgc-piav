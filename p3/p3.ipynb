{
 "cells": [
  {
   "cell_type": "code",
   "execution_count": 2,
   "metadata": {},
   "outputs": [],
   "source": [
    "import cv2 as cv\n",
    "import numpy as np"
   ]
  },
  {
   "cell_type": "markdown",
   "metadata": {},
   "source": [
    "# 1. Video de inversión por columnas."
   ]
  },
  {
   "cell_type": "code",
   "execution_count": 3,
   "metadata": {},
   "outputs": [],
   "source": [
    "image = cv.imread('material/imagen2.png')\n",
    "\n",
    "h, w, c = image.shape\n",
    "fourcc = cv.VideoWriter_fourcc(*'mp4v')  # Codec para .mp4\n",
    "video = cv.VideoWriter('video2.mp4', fourcc, 30, (w, h))\n",
    "for col in range(w):\n",
    "\timage[:, col] = 255-image[:,col]\n",
    "\tvideo.write(image)\n",
    "video.release()"
   ]
  },
  {
   "cell_type": "markdown",
   "metadata": {},
   "source": [
    "# 2. Ecualizado histograma y filtrado de ruido"
   ]
  },
  {
   "cell_type": "code",
   "execution_count": 5,
   "metadata": {},
   "outputs": [
    {
     "data": {
      "text/plain": [
       "True"
      ]
     },
     "execution_count": 5,
     "metadata": {},
     "output_type": "execute_result"
    }
   ],
   "source": [
    "image = cv.imread('material/imagen3.png')\n",
    "\n",
    "for i in range(3):\n",
    "\timage[:,:,i] = cv.equalizeHist(image[:, :, i])\n",
    "\n",
    "bl_filter = cv.bilateralFilter(image, 10, 11, 11)\n",
    "\n",
    "cv.imwrite(\"imagen3_salida.png\", bl_filter)\n"
   ]
  },
  {
   "cell_type": "markdown",
   "metadata": {},
   "source": [
    "# 3. Applicación repetida de filtro"
   ]
  },
  {
   "cell_type": "code",
   "execution_count": 7,
   "metadata": {},
   "outputs": [],
   "source": [
    "image = cv.imread(\"material/imagen4.jpg\")\n",
    "\n",
    "h, w, c = image.shape\n",
    "\n",
    "fourcc = cv.VideoWriter_fourcc(*'mp4v')  # Codec para .mp4\n",
    "video = cv.VideoWriter('video4.mp4', fourcc, 30, (w, h))\n",
    "for _ in range(100):\n",
    "\timage = cv.medianBlur(image, 7)\n",
    "\tvideo.write(image)\n",
    "\n",
    "video.release()"
   ]
  },
  {
   "cell_type": "markdown",
   "metadata": {},
   "source": [
    "# 4. Gradient blur"
   ]
  },
  {
   "cell_type": "code",
   "execution_count": 21,
   "metadata": {},
   "outputs": [
    {
     "data": {
      "text/plain": [
       "True"
      ]
     },
     "execution_count": 21,
     "metadata": {},
     "output_type": "execute_result"
    }
   ],
   "source": [
    "kx = np.array([\n",
    "\t[-1, 0, 1],\n",
    "\t[-2, 0, 2],\n",
    "\t[-1, 0, 1]\n",
    "])\n",
    "ky = kx.T\n",
    "\n",
    "image = cv.imread(\"material/imagen5.png\")\n",
    "G_x = cv.filter2D(image.astype(np.float32),-1, kx)\n",
    "G_y = cv.filter2D(image.astype(np.float32),-1, ky)\n",
    "G = np.abs(G_x) + np.abs(G_y)\n",
    "\n",
    "stepped = np.where(G>=128, 255, 0).astype(np.uint8)\n",
    "blurred = cv.GaussianBlur(stepped, (7, 7), -1)\n",
    "\n",
    "cv.imwrite(\"imagen5_salida.png\", blurred)"
   ]
  },
  {
   "cell_type": "markdown",
   "metadata": {},
   "source": [
    "# 5. Redducción de ruido"
   ]
  },
  {
   "cell_type": "code",
   "execution_count": 12,
   "metadata": {},
   "outputs": [
    {
     "data": {
      "text/plain": [
       "True"
      ]
     },
     "execution_count": 12,
     "metadata": {},
     "output_type": "execute_result"
    }
   ],
   "source": [
    "image = cv.imread(\"material/imagen6.png\")\n",
    "\n",
    "for _ in range(5):\n",
    "\timage = cv.medianBlur(image, 3)\n",
    "\n",
    "cv.imwrite(\"imagen6_salida.png\", image)"
   ]
  },
  {
   "cell_type": "markdown",
   "metadata": {},
   "source": [
    "# 6. Transición no linear"
   ]
  },
  {
   "cell_type": "code",
   "execution_count": 11,
   "metadata": {},
   "outputs": [],
   "source": [
    "from math import pi, cos\n",
    "\n",
    "image1 = cv.imread(\"material/imagen7_1.jpg\")\n",
    "image2 = cv.imread(\"material/imagen7_2.png\")\n",
    "\n",
    "h, w, c = image1.shape\n",
    "\n",
    "fourcc = cv.VideoWriter_fourcc(*'mp4v')  # Codec para .mp4\n",
    "video = cv.VideoWriter('video7.mp4', fourcc, 30, (w, h))\n",
    "\n",
    "for deg in range(360):\n",
    "\tangle = deg / 180 * pi\n",
    "\tc = cos(angle) / 2\n",
    "\tframe = (.5 + c) * image1 + (.5 - c) * image2\n",
    "\tnp.clip(frame, 0, 255, out=frame)\n",
    "\tvideo.write(frame.astype(np.uint8))\n",
    "\n",
    "video.release()"
   ]
  }
 ],
 "metadata": {
  "kernelspec": {
   "display_name": "base",
   "language": "python",
   "name": "python3"
  },
  "language_info": {
   "codemirror_mode": {
    "name": "ipython",
    "version": 3
   },
   "file_extension": ".py",
   "mimetype": "text/x-python",
   "name": "python",
   "nbconvert_exporter": "python",
   "pygments_lexer": "ipython3",
   "version": "3.10.15"
  }
 },
 "nbformat": 4,
 "nbformat_minor": 2
}
